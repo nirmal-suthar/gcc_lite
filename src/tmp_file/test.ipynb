{
 "metadata": {
  "language_info": {
   "codemirror_mode": {
    "name": "ipython",
    "version": 3
   },
   "file_extension": ".py",
   "mimetype": "text/x-python",
   "name": "python",
   "nbconvert_exporter": "python",
   "pygments_lexer": "ipython3",
   "version": "3.8.5"
  },
  "orig_nbformat": 2,
  "kernelspec": {
   "name": "python385jvsc74a57bd0916dbcbb3f70747c44a77c7bcd40155683ae19c65e1c03b4aa3499c5328201f1",
   "display_name": "Python 3.8.5 64-bit"
  },
  "metadata": {
   "interpreter": {
    "hash": "916dbcbb3f70747c44a77c7bcd40155683ae19c65e1c03b4aa3499c5328201f1"
   }
  }
 },
 "nbformat": 4,
 "nbformat_minor": 2,
 "cells": [
  {
   "cell_type": "code",
   "execution_count": 1,
   "metadata": {},
   "outputs": [],
   "source": [
    "import sys, argparse, pydot"
   ]
  },
  {
   "cell_type": "code",
   "execution_count": 2,
   "metadata": {},
   "outputs": [],
   "source": [
    "from parser import lexer, parser, symtable, compilation_err\n",
    "with open('../tests/helloworld.c', 'r') as f:\n",
    "    ifile = f.read()\n",
    "\n",
    "lexer.filename = 'hello'\n",
    "lexer.lines = ifile.split(\"\\n\")\n",
    "# symtable = SymbolTable()\n",
    "syntax_tree = parser.parse(ifile)"
   ]
  },
  {
   "cell_type": "code",
   "execution_count": 3,
   "metadata": {},
   "outputs": [
    {
     "output_type": "execute_result",
     "data": {
      "text/plain": [
       "[]"
      ]
     },
     "metadata": {},
     "execution_count": 3
    }
   ],
   "source": [
    "compilation_err"
   ]
  },
  {
   "cell_type": "code",
   "execution_count": 4,
   "metadata": {},
   "outputs": [
    {
     "output_type": "execute_result",
     "data": {
      "text/plain": [
       "['Start',\n",
       " ['FuncDef',\n",
       "  'type = int ',\n",
       "  \"'main'\",\n",
       "  ['CompoundStmt',\n",
       "   [\"'AssignExpr'\",\n",
       "    'type = int ',\n",
       "    [\"'PostfixExpr'\",\n",
       "     'type = int ',\n",
       "     [\"'Identifier'\", 'type = int *', 'a'],\n",
       "     '[',\n",
       "     ['Const', 'type = int ', '2']],\n",
       "    '=',\n",
       "    ['Type Casting',\n",
       "     'type = int ',\n",
       "     [\"'OpExpr'\",\n",
       "      'type = int ',\n",
       "      ['Const', 'type = int ', '1'],\n",
       "      '+',\n",
       "      ['Const', 'type = int ', '3']]]],\n",
       "   [\"'JumpStmt'\", 'return', ['Const', 'type = int ', '0']]]]]"
      ]
     },
     "metadata": {},
     "execution_count": 4
    }
   ],
   "source": [
    "graph = pydot.Dot('gcc_lite: Abstract Syntax Tree', graph_type='digraph')\n",
    "syntax_tree.gen_dot(graph)"
   ]
  },
  {
   "cell_type": "code",
   "execution_count": 5,
   "metadata": {},
   "outputs": [],
   "source": [
    "graph.write_png('tst.png')"
   ]
  },
  {
   "cell_type": "code",
   "execution_count": 6,
   "metadata": {},
   "outputs": [],
   "source": [
    "graph.write_raw('tst.dot')"
   ]
  },
  {
   "cell_type": "code",
   "execution_count": 8,
   "metadata": {},
   "outputs": [
    {
     "output_type": "execute_result",
     "data": {
      "text/plain": [
       "{'attr_ignore': ['attr_ignore'], 'name': 'fun', 'variables': None}"
      ]
     },
     "metadata": {},
     "execution_count": 8
    }
   ],
   "source": [
    "symtable.all_scope[0].structs['fun'].variables['b']._type.__dict__"
   ]
  },
  {
   "cell_type": "code",
   "execution_count": null,
   "metadata": {},
   "outputs": [],
   "source": []
  },
  {
   "cell_type": "code",
   "execution_count": null,
   "metadata": {},
   "outputs": [],
   "source": []
  }
 ]
}